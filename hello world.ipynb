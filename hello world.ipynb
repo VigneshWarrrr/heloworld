{
 "cells": [
  {
   "cell_type": "code",
   "execution_count": 3,
   "id": "9d45e610-dfff-4d87-ba06-7ec1d9560363",
   "metadata": {},
   "outputs": [
    {
     "name": "stdin",
     "output_type": "stream",
     "text": [
      "Enter the radius of the circle= 4\n"
     ]
    },
    {
     "name": "stdout",
     "output_type": "stream",
     "text": [
      "The Area Of the Circle= 50.24\n"
     ]
    }
   ],
   "source": [
    "r=int(input(\"Enter the radius of the circle=\"))\n",
    "pi=3.14\n",
    "a=pi*r*r\n",
    "print(\"The Area Of the Circle=\",a)"
   ]
  },
  {
   "cell_type": "code",
   "execution_count": 4,
   "id": "13f950b1-fcf8-4e49-a374-4bb1c58feb05",
   "metadata": {},
   "outputs": [
    {
     "name": "stdin",
     "output_type": "stream",
     "text": [
      "Enter the radius of the circle 5\n"
     ]
    },
    {
     "name": "stdout",
     "output_type": "stream",
     "text": [
      "The Circumference of the Circle is= 31.400000000000002\n"
     ]
    }
   ],
   "source": [
    "r=int(input(\"Enter the radius of the circle\"))\n",
    "pi=3.14\n",
    "c=2*pi*r\n",
    "print(\"The Circumference of the Circle is=\",c)"
   ]
  },
  {
   "cell_type": "code",
   "execution_count": 5,
   "id": "32b44107-fee8-4724-b3dc-0f78b3c73ded",
   "metadata": {},
   "outputs": [
    {
     "name": "stdout",
     "output_type": "stream",
     "text": [
      "hello world\n"
     ]
    }
   ],
   "source": [
    "print(\"hello world\")\n"
   ]
  },
  {
   "cell_type": "code",
   "execution_count": 6,
   "id": "5544701a-63d2-4bdc-aec0-4cfc064e3f0c",
   "metadata": {},
   "outputs": [
    {
     "name": "stdout",
     "output_type": "stream",
     "text": [
      "Welcome to python\n"
     ]
    }
   ],
   "source": [
    "a=\"Welcome \"\n",
    "b=\"to \"\n",
    "c=\"python\"\n",
    "s=a+b+c\n",
    "print(s)"
   ]
  },
  {
   "cell_type": "code",
   "execution_count": 7,
   "id": "ae62d8b7-7919-409a-adc6-d37030431a97",
   "metadata": {},
   "outputs": [
    {
     "name": "stdin",
     "output_type": "stream",
     "text": [
      "Enter the First Number a 4\n",
      "Enter the Second Number b 5\n"
     ]
    },
    {
     "name": "stdout",
     "output_type": "stream",
     "text": [
      "Sum of 4 and 5 = 9\n",
      "Difference of 4 and 5 = -1\n",
      "Product of 4 and 5 = 20\n",
      "Quotient of 4 and 5 = 0.8\n",
      "Quotient Integer of 4 and 5 = 0\n",
      "Remainder of 4 and 5 = 4\n",
      "Exponet Value of 4 and 5 = 1024\n"
     ]
    }
   ],
   "source": [
    "a=int(input(\"Enter the First Number a\"))\n",
    "b=int(input(\"Enter the Second Number b\"))\n",
    "print(\"Sum of\",a,\"and\",b,\"=\",a+b)\n",
    "print(\"Difference of\",a,\"and\",b,\"=\",a-b)\n",
    "print(\"Product of\",a,\"and\",b,\"=\",a*b)\n",
    "print(\"Quotient of\",a,\"and\",b,\"=\",a/b)\n",
    "print(\"Quotient Integer of\",a,\"and\",b,\"=\",a//b)\n",
    "print(\"Remainder of\",a,\"and\",b,\"=\",a%b)\n",
    "print(\"Exponet Value of\",a,\"and\",b,\"=\",a**b)"
   ]
  },
  {
   "cell_type": "code",
   "execution_count": 8,
   "id": "1975c9b5-2701-44c4-ab72-0592f1b8ed9c",
   "metadata": {},
   "outputs": [
    {
     "name": "stdin",
     "output_type": "stream",
     "text": [
      "Enter your Age: 15\n"
     ]
    },
    {
     "name": "stdout",
     "output_type": "stream",
     "text": [
      "You Can't Drive\n"
     ]
    }
   ],
   "source": [
    "r=int(input(\"Enter your Age:\"))\n",
    "if(r>=75):\n",
    "    print(\"You are overage\")\n",
    "elif(r>=18):\n",
    "    print(\"You can drive\")\n",
    "else:\n",
    " print(\"You Can't Drive\")\n"
   ]
  },
  {
   "cell_type": "code",
   "execution_count": 9,
   "id": "68043ceb-4dc2-4f98-a54a-4ce548aee912",
   "metadata": {},
   "outputs": [
    {
     "name": "stdin",
     "output_type": "stream",
     "text": [
      "Enter your age 19\n"
     ]
    },
    {
     "name": "stdout",
     "output_type": "stream",
     "text": [
      "Your age is: 19\n"
     ]
    }
   ],
   "source": [
    "r=int(input(\"Enter your age\"))\n",
    "print(\"Your age is:\",r)\n",
    "\n"
   ]
  },
  {
   "cell_type": "code",
   "execution_count": 10,
   "id": "449056cc-9efa-4fcd-9476-8229449b30e6",
   "metadata": {},
   "outputs": [
    {
     "name": "stdin",
     "output_type": "stream",
     "text": [
      "Enter a number -234\n"
     ]
    },
    {
     "name": "stdout",
     "output_type": "stream",
     "text": [
      "It is a Negative Number\n"
     ]
    }
   ],
   "source": [
    "r=int(input(\"Enter a number\"))\n",
    "if(r<0):\n",
    "      print(\"It is a Negative Number\")\n",
    "elif(r==0):\n",
    "     print(\"The number is:\",r)\n",
    "else:\n",
    "  print(\"It is a Positive Number\")"
   ]
  },
  {
   "cell_type": "code",
   "execution_count": 1,
   "id": "40882d59-850b-4a82-ac53-f3beb754694a",
   "metadata": {},
   "outputs": [
    {
     "name": "stdin",
     "output_type": "stream",
     "text": [
      "Enter the 1st Number 45\n",
      "Enter the 2nd Number 50\n"
     ]
    },
    {
     "name": "stdout",
     "output_type": "stream",
     "text": [
      "**Menu**\n",
      "Enter the Operator you want to apply for the numbers Entered\n",
      "Choice 1: 1 for '+' \n",
      " Choice 2: 2 for '-' \n",
      " Choice 3: 3 for '*'\n",
      " Choice 4: 4 for '/'  \n",
      " Choice 5: 5 for '//' \n",
      " Choice 6: 6 for '%' \n",
      " Choice 7: 7 for '**'\n"
     ]
    },
    {
     "name": "stdin",
     "output_type": "stream",
     "text": [
      "Enter your choice 1\n"
     ]
    },
    {
     "name": "stdout",
     "output_type": "stream",
     "text": [
      "The Sum of the two numbers is: 95\n"
     ]
    }
   ],
   "source": [
    "a=int(input(\"Enter the 1st Number\"))\n",
    "b=int(input(\"Enter the 2nd Number\"))\n",
    "print(\"**Menu**\")\n",
    "print(\"Enter the Operator you want to apply for the numbers Entered\")\n",
    "print(\"Choice 1: 1 for \\'+\\' \\n Choice 2: 2 for \\'-\\' \\n Choice 3: 3 for \\'*\\'\\n Choice 4: 4 for \\'/\\'  \\n Choice 5: 5 for \\'//\\' \\n Choice 6: 6 for \\'%\\' \\n Choice 7: 7 for \\'**\\'\")\n",
    "r=int(input(\"Enter your choice\"))\n",
    "match r:\n",
    " case 1:\n",
    "   print(\"The Sum of the two numbers is:\",a+b)\n",
    " case 2:\n",
    "    print(\"The Difference of the two numbers is:\",a-b)\n",
    " case 3:\n",
    "    print(\"The Product of the two numbers is:\",a*b)\n",
    " case 4:\n",
    "  print(\"The Decimal Quotient of the numbers is:\",a/b)\n",
    " case 5:\n",
    "   print(\"The Integeral Quotient of the numbers is:\",a//b)\n",
    " case 6:\n",
    "  print(\"The Remainder of the Numbers is:\",a%b)\n",
    " case 7:\n",
    "  print(\"1st number to the power of 2nd number is:\",a**b)\n",
    " case r:\n",
    "  print(\"Wrong Choice\")"
   ]
  },
  {
   "cell_type": "code",
   "execution_count": 4,
   "id": "c99be10b-9c2b-4d24-82f0-f4ddcf90ac05",
   "metadata": {},
   "outputs": [
    {
     "name": "stdout",
     "output_type": "stream",
     "text": [
      "1\n",
      "2\n",
      "3\n",
      "4\n",
      "5\n",
      "6\n",
      "7\n",
      "8\n",
      "9\n",
      "10\n",
      "11\n",
      "12\n",
      "13\n",
      "14\n",
      "15\n",
      "16\n",
      "17\n",
      "18\n",
      "19\n",
      "20\n"
     ]
    }
   ],
   "source": [
    "for i in range(20):\n",
    " print(i+1)\n",
    "    "
   ]
  },
  {
   "cell_type": "code",
   "execution_count": 15,
   "id": "db1e39e3-9c13-4cc1-93be-34b35a521248",
   "metadata": {},
   "outputs": [
    {
     "name": "stdin",
     "output_type": "stream",
     "text": [
      "Enter the 1st Number 40\n",
      "Enter the 2nd Number 10\n"
     ]
    },
    {
     "name": "stdout",
     "output_type": "stream",
     "text": [
      "**Menu**\n",
      "Enter the Operator you want to apply for the numbers Entered\n",
      "Choice 1: '+' for Addition \n",
      " Choice 2: '-' for Subtraction \n",
      " Choice 3: '*' for Product\n",
      " Choice 4: '/' for Division  \n",
      " Choice 5: '//' for Integeral Quotient \n",
      " Choice 6:'%' for Remainder \n",
      " Choice 7:'**' for Power\n"
     ]
    },
    {
     "name": "stdin",
     "output_type": "stream",
     "text": [
      "Enter your choice +\n"
     ]
    },
    {
     "name": "stdout",
     "output_type": "stream",
     "text": [
      "The Sum of the two numbers is: 50\n"
     ]
    }
   ],
   "source": [
    "a=int(input(\"Enter the 1st Number\"))\n",
    "b=int(input(\"Enter the 2nd Number\"))\n",
    "print(\"**Menu**\")\n",
    "print(\"Enter the Operator you want to apply for the numbers Entered\")\n",
    "print(\"Choice 1: \\'+\\' for Addition \\n Choice 2: \\'-\\' for Subtraction \\n Choice 3: \\'*\\' for Product\\n Choice 4: \\'/\\' for Division  \\n Choice 5: \\'//\\' for Integeral Quotient \\n Choice 6:\\'%\\' for Remainder \\n Choice 7:\\'**\\' for Power\")\n",
    "r=input(\"Enter your choice\")\n",
    "match r:\n",
    " case '+':print(\"The Sum of the two numbers is:\",a+b)\n",
    " case '-':print(\"The Difference of the two numbers is:\",a-b)  \n",
    " case '*':print(\"The Product of the two numbers is:\",a*b)\n",
    " case '/':print(\"The Decimal Quotient of the numbers is:\",a/b)\n",
    " case '//':print(\"The Integeral Quotient of the numbers is:\",a//b)\n",
    " case '%':print(\"The Remainder of the Numbers is:\",a%b)\n",
    " case '**':print(\"1st number to the power of 2nd number is:\",a**b)\n",
    " case r:print(\"Wrong Choice\")"
   ]
  },
  {
   "cell_type": "code",
   "execution_count": 24,
   "id": "67b40b70-66c5-4fae-963e-6465df234aab",
   "metadata": {},
   "outputs": [
    {
     "name": "stdin",
     "output_type": "stream",
     "text": [
      "Enter the Principal Amount 5000\n",
      "Enter the Time 4\n",
      "Enter the Rate 5\n"
     ]
    },
    {
     "name": "stdout",
     "output_type": "stream",
     "text": [
      "The Simple Interest is: 1000.0\n"
     ]
    }
   ],
   "source": [
    "p=int(input(\"Enter the Principal Amount\"))\n",
    "t=int(input(\"Enter the Time\"))\n",
    "r=int(input(\"Enter the Rate\"))\n",
    "print(\"The Simple Interest is:\",p*t*r/100)"
   ]
  },
  {
   "cell_type": "code",
   "execution_count": 5,
   "id": "a84457f5-dd38-4ca7-b8d6-41984f7f6a88",
   "metadata": {},
   "outputs": [
    {
     "name": "stdin",
     "output_type": "stream",
     "text": [
      "Enter the Integer 3456\n"
     ]
    },
    {
     "name": "stdout",
     "output_type": "stream",
     "text": [
      "The interger is: 3456 \n",
      "The type is: <class 'int'>\n"
     ]
    },
    {
     "name": "stdin",
     "output_type": "stream",
     "text": [
      "Enter the Float value: 5456\n"
     ]
    },
    {
     "name": "stdout",
     "output_type": "stream",
     "text": [
      "The Float value is: 5456.0 \n",
      "The type is: <class 'float'>\n"
     ]
    },
    {
     "name": "stdin",
     "output_type": "stream",
     "text": [
      "Enter the String value: xgfhjk\n"
     ]
    },
    {
     "name": "stdout",
     "output_type": "stream",
     "text": [
      "The String is: xgfhjk \n",
      "The type is: <class 'str'>\n"
     ]
    },
    {
     "name": "stdin",
     "output_type": "stream",
     "text": [
      "Enter the Complex value: 3+4j\n"
     ]
    },
    {
     "name": "stdout",
     "output_type": "stream",
     "text": [
      "The Complex value is: (3+4j) \n",
      "The type is: <class 'complex'>\n"
     ]
    },
    {
     "name": "stdin",
     "output_type": "stream",
     "text": [
      "Enter the Boolean value: 0\n"
     ]
    },
    {
     "name": "stdout",
     "output_type": "stream",
     "text": [
      "The Boolean value is: True \n",
      "The type is: <class 'bool'>\n",
      "The None type is: None The type is: <class 'NoneType'>\n"
     ]
    }
   ],
   "source": [
    "a=int(input(\"Enter the Integer\"))\n",
    "print(\"The interger is:\",a, \"\\nThe type is:\",type(a))\n",
    "b=float(input(\"Enter the Float value:\"))\n",
    "print(\"The Float value is:\",b,\"\\nThe type is:\",type(b))\n",
    "c=(input(\"Enter the String value:\"))\n",
    "print(\"The String is:\",c,\"\\nThe type is:\",type(c))\n",
    "d=complex(input(\"Enter the Complex value:\"))\n",
    "print(\"The Complex value is:\",d,\"\\nThe type is:\",type(d))\n",
    "e=bool(input(\"Enter the Boolean value:\"))\n",
    "print(\"The Boolean value is:\",e,\"\\nThe type is:\",type(e))\n",
    "f=None\n",
    "print(\"The None type is:\",f,\"The type is:\",type(f))"
   ]
  },
  {
   "cell_type": "code",
   "execution_count": 10,
   "id": "741c7c8e-92b1-4c37-8d4e-6e6096faf302",
   "metadata": {},
   "outputs": [
    {
     "name": "stdin",
     "output_type": "stream",
     "text": [
      "Enter the Quantity 10\n",
      "Enter the Value 10\n",
      "Enter the Discount Percentage 10\n",
      "Enter the Tax Percentage 10\n"
     ]
    },
    {
     "name": "stdout",
     "output_type": "stream",
     "text": [
      "The quantity is= 10\n",
      "The Value is= 10\n",
      "The Discount Percentage is= 10\n",
      "The Tax Percentage is= 10\n",
      "The Total amount is= 99.0\n"
     ]
    }
   ],
   "source": [
    "a=int(input(\"Enter the Quantity\"))\n",
    "b=int(input(\"Enter the Value\"))\n",
    "c=int(input(\"Enter the Discount Percentage\"))\n",
    "d=int(input(\"Enter the Tax Percentage\"))\n",
    "e=a*b\n",
    "e=e-(c/100*e)\n",
    "e=e+(d/100*e)\n",
    "print(\"The quantity is=\",a)\n",
    "print(\"The Value is=\",b)\n",
    "print(\"The Discount Percentage is=\",c)\n",
    "print(\"The Tax Percentage is=\",d)\n",
    "print(\"The Total amount is=\",e)"
   ]
  },
  {
   "cell_type": "code",
   "execution_count": 10,
   "id": "ba3451a8-49bc-4701-a00f-644f65a3ead2",
   "metadata": {},
   "outputs": [
    {
     "name": "stdin",
     "output_type": "stream",
     "text": [
      "Enter the co-efficient of a 1\n",
      "Enter the co-efficient of b 2\n",
      "Enter the co-efficient of c 5\n"
     ]
    },
    {
     "name": "stdout",
     "output_type": "stream",
     "text": [
      "The Equation has Real and Complex roots\n",
      "The root is: -1.0 + 2.0 i\n",
      "The root is: -1.0 - 2.0 i\n"
     ]
    }
   ],
   "source": [
    "import math\n",
    "a=int(input(\"Enter the co-efficient of a\"))\n",
    "b=int(input(\"Enter the co-efficient of b\"))\n",
    "c=int(input(\"Enter the co-efficient of c\"))\n",
    "d=b*b-4*a*c\n",
    "if(a==0):\n",
    "    print(\"The Root(s) for the Quadratic Equation does not exist\")\n",
    "else:\n",
    "    if(d>0):\n",
    "     r1=(-b+math.sqrt(d))/(2*a)\n",
    "     r2=(-b-math.sqrt(d))/(2*a)\n",
    "     print(\"The Quadratic Equation has Real and distinct roots\")\n",
    "     print(\"The Roots are:\",r1,\"&\",r2)\n",
    "    elif(d==0):\n",
    "     r3=-b/(2*a)\n",
    "     print(\"The Equation has real and equal roots\")\n",
    "     print(\"The root is:\",r3)\n",
    "    else:\n",
    "     r4=-b/(2*a)\n",
    "     r5=math.sqrt(abs(d))/(2*a)\n",
    "     print(\"The Equation has Real and Complex roots\")\n",
    "     print(\"The root is:\",r4,\"+\",r5,\"i\")\n",
    "     print(\"The root is:\",r4,\"-\",r5,\"i\")"
   ]
  },
  {
   "cell_type": "code",
   "execution_count": 4,
   "id": "fd3dfabe-12c8-4fbd-a3f7-4fa045babe49",
   "metadata": {},
   "outputs": [
    {
     "name": "stdin",
     "output_type": "stream",
     "text": [
      "Enter the No of students attendence to be calculated 2\n",
      "Enter the name of the student we\n",
      "Enter the no of classes attended by the student 9\n",
      "Enter the Total no of classes 10\n"
     ]
    },
    {
     "name": "stdout",
     "output_type": "stream",
     "text": [
      "The name of the student is :  we\n",
      "The Attendance percentage of the candidate is= 90.0\n"
     ]
    },
    {
     "name": "stdin",
     "output_type": "stream",
     "text": [
      "Enter the name of the student we\n",
      "Enter the no of classes attended by the student 8\n",
      "Enter the Total no of classes 10\n"
     ]
    },
    {
     "name": "stdout",
     "output_type": "stream",
     "text": [
      "The name of the student is :  we\n",
      "The Attendance percentage of the candidate is= 80.0\n",
      "The average attendance of the class is= 85.0\n"
     ]
    }
   ],
   "source": [
    "d=0\n",
    "e=0\n",
    "f=0\n",
    "g=0\n",
    "i=0\n",
    "e=int(input(\"Enter the No of students attendence to be calculated\"))\n",
    "for i in range(e):\n",
    " a=input(\"Enter the name of the student\")\n",
    " b=float(input(\"Enter the no of classes attended by the student\"))\n",
    " c=float(input(\"Enter the Total no of classes\"))\n",
    " d=(b/c)*100\n",
    " print(\"The name of the student is : \",a)\n",
    " print(\"The Attendance percentage of the candidate is=\",d)\n",
    " f=f+d\n",
    "g=f/e\n",
    "print(\"The average attendance of the class is=\",g)"
   ]
  },
  {
   "cell_type": "code",
   "execution_count": 18,
   "id": "a4745846-19d3-463a-a31a-6988b7dee097",
   "metadata": {},
   "outputs": [
    {
     "name": "stdin",
     "output_type": "stream",
     "text": [
      "Enter the number of students: 2\n",
      "Enter the Total number of classes taken 10\n",
      "Enter the name of student: wd\n",
      "Enter the classes attended by Student 9\n",
      "Enter the name of student: sdf\n",
      "Enter the classes attended by Student 2\n"
     ]
    },
    {
     "name": "stdout",
     "output_type": "stream",
     "text": [
      "The name of the student is wd\n",
      "The No of classes attended by the student is 9\n",
      "The attendance percentage of the student is 90.0\n",
      "The name of the student is sdf\n",
      "The No of classes attended by the student is 2\n",
      "The attendance percentage of the student is 110.0\n",
      "The average attendence of class is  110.0\n"
     ]
    }
   ],
   "source": [
    "per , a , b = [] , [] , []\n",
    "g=0\n",
    "z=0\n",
    "number = int(input(\"Enter the number of students:\"))\n",
    "c = int(input(\"Enter the Total number of classes taken\"))\n",
    "for i in range (number):\n",
    "    name= input(\"Enter the name of student:\")\n",
    "    a.append(name)\n",
    "    clas= int(input(\"Enter the classes attended by Student\"))\n",
    "    b.append(clas)\n",
    "    z+= (b[i]/c * 100)\n",
    "    per.append(z)\n",
    "g+=z\n",
    "for i in range(number):\n",
    "    print(\"The name of the student is\",a[i])\n",
    "    print(\"The No of classes attended by the student is\",b[i])\n",
    "    print(\"The attendance percentage of the student is\", per[i])\n",
    "print(\"The average attendence of class is \", g/number)           \n",
    "    "
   ]
  },
  {
   "cell_type": "code",
   "execution_count": 11,
   "id": "7ecf2d5f-b147-4bd6-a6cc-513cba1342e7",
   "metadata": {},
   "outputs": [
    {
     "name": "stdin",
     "output_type": "stream",
     "text": [
      "Enter the number of students attendance to be calculated 1\n",
      "Enter the total number of classes conducted 10\n",
      "Enter the name of the student:\n",
      " we\n",
      "Enter the number of classes attended by the student:\n",
      " 9\n"
     ]
    },
    {
     "name": "stdout",
     "output_type": "stream",
     "text": [
      "The name of the student is: we\n",
      "The Number of classes attended by the student is: 9\n",
      "The Attendance Percentage of the student is: 90.0\n",
      "The average attendance of the class is: 90.0\n"
     ]
    }
   ],
   "source": [
    "a,b,c=[],[],[]\n",
    "d=int(input(\"Enter the number of students attendance to be calculated\"))\n",
    "f=int(input(\"Enter the total number of classes conducted\"))\n",
    "i=0\n",
    "e=0\n",
    "g=0\n",
    "for i in range(d):\n",
    " name=input(\"Enter the name of the student:\\n\")\n",
    " a.append(name)\n",
    " clas=int(input(\"Enter the number of classes attended by the student:\\n\"))\n",
    " b.append(clas)\n",
    " per=(clas/f)*100\n",
    " c.append(per)\n",
    " e+=per\n",
    "for i in range(d):\n",
    "    print(\"The name of the student is:\",a[i])\n",
    "    print(\"The Number of classes attended by the student is:\",b[i])\n",
    "    print(\"The Attendance Percentage of the student is:\",c[i])\n",
    "g=e/d\n",
    "print(\"The average attendance of the class is:\",g)\n",
    " "
   ]
  },
  {
   "cell_type": "code",
   "execution_count": 23,
   "id": "f245d943-7ce9-465c-836a-b2ffa8703c95",
   "metadata": {
    "scrolled": true
   },
   "outputs": [
    {
     "name": "stdin",
     "output_type": "stream",
     "text": [
      "Enter the Number 5\n"
     ]
    },
    {
     "name": "stdout",
     "output_type": "stream",
     "text": [
      "*\n",
      "\n",
      "**\n",
      "\n",
      "***\n",
      "\n",
      "****\n",
      "\n",
      "*****\n",
      "\n"
     ]
    }
   ],
   "source": [
    "n=int(input(\"Enter the Number\"))\n",
    "i=0\n",
    "j=0\n",
    "for i in range(n):\n",
    " for j in range(i+1):\n",
    "    print(\"*\", end =\"\")\n",
    " print(\"\\n\")   \n",
    "\n",
    "      "
   ]
  },
  {
   "cell_type": "code",
   "execution_count": 1,
   "id": "aced82ed-b85a-4250-9c86-f0dc6525c0ef",
   "metadata": {},
   "outputs": [
    {
     "name": "stdin",
     "output_type": "stream",
     "text": [
      "Enter the numbers to be printed 10\n"
     ]
    },
    {
     "name": "stdout",
     "output_type": "stream",
     "text": [
      "0\n",
      "1\n",
      "2\n",
      "3\n",
      "4\n",
      "6\n",
      "7\n",
      "8\n",
      "9\n"
     ]
    }
   ],
   "source": [
    "a=int(input(\"Enter the numbers to be printed\"))\n",
    "i=0\n",
    "for i in range(a):\n",
    "    if (i==5):\n",
    "      continue\n",
    "    print(i)"
   ]
  },
  {
   "cell_type": "code",
   "execution_count": 8,
   "id": "916f2fff-83d2-41d3-a87e-46bb575edaed",
   "metadata": {},
   "outputs": [
    {
     "name": "stdin",
     "output_type": "stream",
     "text": [
      "Enter the 1st numbers\n",
      " 12\n",
      "Enter the 2nd numbers\n",
      " 12\n"
     ]
    },
    {
     "name": "stdout",
     "output_type": "stream",
     "text": [
      "24\n"
     ]
    },
    {
     "name": "stdin",
     "output_type": "stream",
     "text": [
      "Enter the 3rd numbers\n",
      " 12\n",
      "Enter the 4th numbers\n",
      " 12\n"
     ]
    },
    {
     "name": "stdout",
     "output_type": "stream",
     "text": [
      "24\n"
     ]
    }
   ],
   "source": [
    "a=int(input(\"Enter the 1st numbers\\n\"))\n",
    "b=int(input(\"Enter the 2nd numbers\\n\"))\n",
    "c=0\n",
    "def add(a,b):\n",
    "  c=a+b\n",
    "  print(c)\n",
    "add(a,b)\n",
    "d=int(input(\"Enter the 3rd numbers\\n\"))\n",
    "f=int(input(\"Enter the 4th numbers\\n\"))\n",
    "add(d,f)"
   ]
  },
  {
   "cell_type": "code",
   "execution_count": 26,
   "id": "3fe0133a-3aea-4194-99c3-f758e123785c",
   "metadata": {},
   "outputs": [
    {
     "name": "stdout",
     "output_type": "stream",
     "text": [
      "(1, 2, 3, 4, 5, 6)\n",
      "<class 'tuple'>\n"
     ]
    },
    {
     "data": {
      "text/plain": [
       "(2, 4)"
      ]
     },
     "execution_count": 26,
     "metadata": {},
     "output_type": "execute_result"
    }
   ],
   "source": [
    "tup=(1,2,3,4,5,6)\n",
    "print(tup)\n",
    "print(type(tup))\n",
    "#print(tup[1:5:2])\n",
    "tup[1:5:2]"
   ]
  },
  {
   "cell_type": "code",
   "execution_count": 53,
   "id": "9150e3c1-5298-43ac-b5dc-23ce6edcc238",
   "metadata": {},
   "outputs": [
    {
     "name": "stdout",
     "output_type": "stream",
     "text": [
      "[1, 2, 3, 4, 5, 5, 5, 5, 5, 5, 5]\n",
      "[1, 2, 3, 4, 5, 5, 5, 5, 5, 5, 5, 6, 7, 8, 9, 10]\n"
     ]
    },
    {
     "data": {
      "text/plain": [
       "4"
      ]
     },
     "execution_count": 53,
     "metadata": {},
     "output_type": "execute_result"
    }
   ],
   "source": [
    "a=[1,2,3,4,5,5,5,5,5,5,5]\n",
    "#a.insert(2,10)\n",
    "print(a)\n",
    "b=[6,7,8,9,10]\n",
    "a.extend(b)\n",
    "print(a)\n",
    "#a.count(5)\n",
    "a.index(5,4,8)"
   ]
  },
  {
   "cell_type": "code",
   "execution_count": 75,
   "id": "e492fc45-f2a3-4fbb-bfcf-17763cd502da",
   "metadata": {},
   "outputs": [
    {
     "name": "stdout",
     "output_type": "stream",
     "text": [
      "Good Night Sir\n"
     ]
    }
   ],
   "source": [
    "import time\n",
    "t=int(time.strftime(\"%H\"))\n",
    "if (t>=0 and t<12):\n",
    " print(\"Good Morning Sir\")\n",
    "elif(t>=12 and t<17):\n",
    " print(\"Good Afternoon Sir\")\n",
    "elif(t>=17 and t<20):\n",
    " print(\"Good Evening Sir\")\n",
    "else:\n",
    " print(\"Good Night Sir\")"
   ]
  },
  {
   "cell_type": "code",
   "execution_count": 8,
   "id": "c023f5e2-873a-4a3c-9ddf-8dee1a5a0569",
   "metadata": {},
   "outputs": [
    {
     "name": "stdout",
     "output_type": "stream",
     "text": [
      "Welcome Player\n",
      "You will be playing KBC for 1 Crore rupees\n",
      "You will be answering 10 Questions each worth 10 Lakh rupees\n",
      "Ready for the challenge\n",
      "1.Which country has the highest life expectancy?\n",
      "Your Options are:\n"
     ]
    },
    {
     "name": "stdin",
     "output_type": "stream",
     "text": [
      "Enter your choice a,b,c or d\n",
      " b\n"
     ]
    },
    {
     "name": "stdout",
     "output_type": "stream",
     "text": [
      "a. Japan\n",
      "b. Hong Kong\n",
      "c. USA\n",
      "d. Phillepenes\n",
      "You won 10 Lakhs\n",
      "2.What is the most common surname in the United States?\n",
      "Your Options are:\n"
     ]
    },
    {
     "name": "stdin",
     "output_type": "stream",
     "text": [
      "Enter your choice a,b,c or d\n",
      " d\n"
     ]
    },
    {
     "name": "stdout",
     "output_type": "stream",
     "text": [
      "a. Trump\n",
      "b. Paul\n",
      "c. John\n",
      "d. Smith\n",
      "You Lost\n"
     ]
    }
   ],
   "source": [
    "q,a,b,c,d=[],[],[],[],[]\n",
    "print(\"Welcome Player\")\n",
    "print(\"You will be playing KBC for 1 Crore rupees\")\n",
    "print(\"You will be answering 10 Questions each worth 10 Lakh rupees\")\n",
    "print(\"Ready for the challenge\")\n",
    "q=[\"1.Which country has the highest life expectancy?\",\\\n",
    "   \"2.What is the most common surname in the United States?\",\\\n",
    "   \"3.Who was the Ancient Greek God of the Sun?\",\\\n",
    "   \"4.How many minutes are in a full week?\",\\\n",
    "   \"5.Aureolin is a shade of what color?\",\\\n",
    "   \"6.How many faces does a Dodecahedron have\",\\\n",
    "   \"7.What is the 4th letter of the Greek alphabet?\",\\\n",
    "   \"8.What company was initially known as \\\"Blue Ribbon Sports\\\"?\",\\\n",
    "   \"9.What art form is described as \\\"decorative handwriting or handwritten lettering\\\"?\",\\\n",
    "   \"10.What software company is headquartered in Redmond, Washington?\"]\n",
    "a=[\"Japan\",\"Trump\",\"LOL\"]\n",
    "b=[\"Hong Kong\",\"Paul\",\"Apollo\"]\n",
    "c=[\"USA\",\"John\",\"mac\"]\n",
    "d=[\"Phillepenes\",\"Smith\",\"Donald\"]\n",
    "i=0\n",
    "m=10\n",
    "\n",
    "while(i<=len(q)):\n",
    "  print(q[i])\n",
    "  print(\"Your Options are:\")\n",
    "  an=input(\"Enter your choice a,b,c or d\\n\")\n",
    "  print(\"a.\",a[i])\n",
    "  print(\"b.\",b[i])\n",
    "  print(\"c.\",c[i])\n",
    "  print(\"d.\",d[i])\n",
    "  if (an=='b'):\n",
    "   print(\"You won\",m,\"Lakhs\")\n",
    "   m=m+10\n",
    "  else:\n",
    "    print(\"You Lost\")\n",
    "    break\n",
    "  i=i+1"
   ]
  },
  {
   "cell_type": "code",
   "execution_count": 8,
   "id": "c0090b43-ae17-4a77-96b7-3ddaedbc1024",
   "metadata": {},
   "outputs": [
    {
     "name": "stdout",
     "output_type": "stream",
     "text": [
      "(2+3j)\n"
     ]
    }
   ],
   "source": [
    "a=complex(2+3j)\n",
    "print(a)"
   ]
  },
  {
   "cell_type": "code",
   "execution_count": 13,
   "id": "9956a332-07e0-4fea-8625-aa5cd84cc348",
   "metadata": {},
   "outputs": [
    {
     "name": "stdin",
     "output_type": "stream",
     "text": [
      "Enter the Temperature in Degree Celisius 11\n"
     ]
    },
    {
     "name": "stdout",
     "output_type": "stream",
     "text": [
      "The Temperature in Fahrenheit= 51.8\n"
     ]
    }
   ],
   "source": [
    "t=int(input(\"Enter the Temperature in Degree Celisius\"))\n",
    "f=(t*(9/5))+32\n",
    "if t<0:\n",
    "    print(\"Below freezing Point\")\n",
    "elif t>100:\n",
    "    print(\"Above Boiling Point\")\n",
    "print(\"The Temperature in Fahrenheit=\",f)"
   ]
  },
  {
   "cell_type": "code",
   "execution_count": 15,
   "id": "5c6ea987-9671-40b7-86d4-9b9cc130f989",
   "metadata": {},
   "outputs": [
    {
     "name": "stdin",
     "output_type": "stream",
     "text": [
      "Enter a Number 456789761\n"
     ]
    },
    {
     "name": "stdout",
     "output_type": "stream",
     "text": [
      "It is an Odd Number\n"
     ]
    }
   ],
   "source": [
    "a=int(input(\"Enter a Number\"))\n",
    "if a%2==0:\n",
    "    print(\"It is an even Number\")\n",
    "else:\n",
    "    print(\"It is an Odd Number\")"
   ]
  },
  {
   "cell_type": "code",
   "execution_count": 19,
   "id": "a48f8470-63be-48c7-ac20-0659287f8099",
   "metadata": {},
   "outputs": [
    {
     "name": "stdin",
     "output_type": "stream",
     "text": [
      "Enter the Number 0\n"
     ]
    },
    {
     "name": "stdout",
     "output_type": "stream",
     "text": [
      "The Number is 0\n"
     ]
    }
   ],
   "source": [
    "a=int(input(\"Enter the Number\"))\n",
    "if a>0:\n",
    "    print(\"The Number is Positive\")\n",
    "elif a<0:\n",
    "    print(\"The Number is Negative\")\n",
    "elif a==0:\n",
    "    print(\"The Number is 0\")"
   ]
  },
  {
   "cell_type": "code",
   "execution_count": 37,
   "id": "a23f0bab-3684-4c69-876a-0601c98a5696",
   "metadata": {},
   "outputs": [
    {
     "name": "stdin",
     "output_type": "stream",
     "text": [
      "Enter the 1st Number 2\n",
      "Enter the 2nd Number 3\n",
      "Enter the 3rd Number 3\n"
     ]
    },
    {
     "name": "stdout",
     "output_type": "stream",
     "text": [
      "The Greatest Number is= 3\n"
     ]
    }
   ],
   "source": [
    "a=int(input(\"Enter the 1st Number\"))\n",
    "b=int(input(\"Enter the 2nd Number\"))\n",
    "c=int(input(\"Enter the 3rd Number\"))\n",
    "d=max(a,b)\n",
    "e=max(c,d)\n",
    "print(\"The Greatest Number is=\",e)"
   ]
  },
  {
   "cell_type": "code",
   "execution_count": 50,
   "id": "ace989e6-eb7c-4a76-b4f1-4cbb5efdf631",
   "metadata": {},
   "outputs": [
    {
     "name": "stdin",
     "output_type": "stream",
     "text": [
      "Enter a Number Between 1 to 7 for the corresponding day 8\n"
     ]
    },
    {
     "name": "stdout",
     "output_type": "stream",
     "text": [
      "Invalid Entry\n"
     ]
    }
   ],
   "source": [
    "a=int(input(\"Enter a Number Between 1 to 7 for the corresponding day\"))\n",
    "if a==1:\n",
    "    print(\"Monday\")\n",
    "elif a==2:\n",
    "    print(\"Tuesday\")\n",
    "elif a==3:\n",
    "    print(\"Wednesday\")\n",
    "elif a==4:\n",
    "    print(\"Thursday\")\n",
    "elif a==5:\n",
    "    print(\"Friday\")\n",
    "elif a==6:\n",
    "    print(\"Saturday\")\n",
    "elif a==7:\n",
    "    print(\"Sunday\")\n",
    "else:\n",
    "    print(\"Invalid Entry\")"
   ]
  },
  {
   "cell_type": "code",
   "execution_count": 60,
   "id": "20cd9d28-c73a-4126-8dd2-c86110696798",
   "metadata": {},
   "outputs": [
    {
     "name": "stdin",
     "output_type": "stream",
     "text": [
      "Enter your Name Vigneshwaran\n",
      "Enter your Employee Id 24ugeng1831\n",
      "Enter your Department cse cyber \n",
      "Enter your Basic Pay 5000\n"
     ]
    },
    {
     "name": "stdout",
     "output_type": "stream",
     "text": [
      "The Name is: Vigneshwaran\n",
      "The Employee Id is: 24ugeng1831\n",
      "The Department of the Employee is: cse cyber \n",
      "HRA= 500.0\n",
      "DA= 1500.0\n",
      "The Total salary of the Employee is: 7000.0\n"
     ]
    }
   ],
   "source": [
    "n=input(\"Enter your Name\")\n",
    "id=input(\"Enter your Employee Id\")\n",
    "d=input(\"Enter your Department\")\n",
    "b=int(input(\"Enter your Basic Pay\"))\n",
    "hra=0.1*b\n",
    "da=0.3*b\n",
    "salary=b+hra+da\n",
    "print(\"The Name is:\",n)\n",
    "print(\"The Employee Id is:\",id)\n",
    "print(\"The Department of the Employee is:\",d)\n",
    "print(\"HRA=\",hra)\n",
    "print(\"DA=\",da)\n",
    "print(\"The Total salary of the Employee is:\",salary)"
   ]
  },
  {
   "cell_type": "code",
   "execution_count": 6,
   "id": "34dbf38d-d233-4b25-991c-898f8c6f986e",
   "metadata": {},
   "outputs": [
    {
     "name": "stdin",
     "output_type": "stream",
     "text": [
      "Enter a single alphabet of your choice d\n"
     ]
    },
    {
     "name": "stdout",
     "output_type": "stream",
     "text": [
      "Letter is consonant\n"
     ]
    }
   ],
   "source": [
    "a=input(\"Enter a single alphabet of your choice\")\n",
    "a=a.lower()\n",
    "if a.isalpha()==True and len(a)==1:\n",
    "    if a=='a' or a=='e' or a=='i' or a=='o' or a=='u':\n",
    "      print(\"Letter is a vowel\")\n",
    "    else:\n",
    "      print(\"Letter is consonant\")\n",
    "else:\n",
    " print(\"Invalid Entry\")"
   ]
  },
  {
   "cell_type": "code",
   "execution_count": 14,
   "id": "afa0244e-f363-4aa2-a4d8-04c9ed18dd99",
   "metadata": {},
   "outputs": [
    {
     "name": "stdin",
     "output_type": "stream",
     "text": [
      "Enter the Year 2000\n"
     ]
    },
    {
     "name": "stdout",
     "output_type": "stream",
     "text": [
      "It is a leap year\n"
     ]
    }
   ],
   "source": [
    "year=int(input(\"Enter the Year\"))\n",
    "if year%4==0 and year%100!=0 or year%400==0:\n",
    "    print(\"It is a leap year\")\n",
    "else:\n",
    "    print(\"It is not a Leap Year\")"
   ]
  },
  {
   "cell_type": "code",
   "execution_count": 18,
   "id": "eb77b201-47b2-4fb5-b393-0312bb49d267",
   "metadata": {},
   "outputs": [
    {
     "name": "stdin",
     "output_type": "stream",
     "text": [
      "Enter the number 5\n"
     ]
    },
    {
     "name": "stdout",
     "output_type": "stream",
     "text": [
      "Not divisible by 5 and 11\n"
     ]
    }
   ],
   "source": [
    "num=int(input(\"Enter the number\"))\n",
    "if num%5==0 and num%11==0:\n",
    "    print(\"Divisible by both 5 and 11\")\n",
    "else:\n",
    "    print(\"Not divisible by 5 and 11\")"
   ]
  },
  {
   "cell_type": "code",
   "execution_count": 28,
   "id": "e271224a-a3b2-460d-8acc-4957476439a1",
   "metadata": {},
   "outputs": [
    {
     "name": "stdin",
     "output_type": "stream",
     "text": [
      "Enter your Score between 1 to 100 60\n"
     ]
    },
    {
     "name": "stdout",
     "output_type": "stream",
     "text": [
      "Your Grade is \"D\"\n"
     ]
    }
   ],
   "source": [
    "scr=int(input(\"Enter your Score between 1 to 100\"))\n",
    "if scr>=0 and scr<=100:\n",
    "    if scr>=90:\n",
    "        print(\"Your Grade is \\\"A\\\"\")\n",
    "    elif scr>=80 and scr<=89:\n",
    "        print(\"Your Grade is \\\"B\\\"\")\n",
    "    elif scr>=70 and scr<=79:\n",
    "        print(\"Your Grade is \\\"C\\\"\")\n",
    "    elif scr>=60 and scr<=69:\n",
    "        print(\"Your Grade is \\\"D\\\"\")\n",
    "    elif scr<60:\n",
    "        print(\"Your Grade is \\\"F\\\"\")\n",
    "else:\n",
    "    print(\"Invalid Score\")"
   ]
  },
  {
   "cell_type": "code",
   "execution_count": 32,
   "id": "24b09f58-5e2c-4ef2-b13e-7022efebc908",
   "metadata": {},
   "outputs": [
    {
     "name": "stdin",
     "output_type": "stream",
     "text": [
      "Enter a number 99\n"
     ]
    },
    {
     "name": "stdout",
     "output_type": "stream",
     "text": [
      "CONGRATULATIONS\n"
     ]
    }
   ],
   "source": [
    "num=int(input(\"Enter a number\"))\n",
    "if num==99:\n",
    "    print(\"CONGRATULATIONS\")\n",
    "elif num<99:\n",
    "    print(\"AIM HIGHER NUMBER\")\n",
    "else:\n",
    "    print(\"AIM LOWER NUMBER\")"
   ]
  },
  {
   "cell_type": "code",
   "execution_count": 37,
   "id": "600647af-65fc-4ffb-a2b9-941c62370841",
   "metadata": {},
   "outputs": [
    {
     "name": "stdin",
     "output_type": "stream",
     "text": [
      "Enter the colour black\n"
     ]
    },
    {
     "name": "stdout",
     "output_type": "stream",
     "text": [
      "Unrecognised Colour\n"
     ]
    }
   ],
   "source": [
    "col=input(\"Enter the colour\")\n",
    "col=col.lower()\n",
    "if col=='green':\n",
    "    print(\"Car is allowed to go\")\n",
    "elif col=='red':\n",
    "    print(\"Car has to stop\")\n",
    "elif col=='yellow':\n",
    "    print(\"Car has to wait\")\n",
    "else:\n",
    "    print(\"Unrecognised Colour\")"
   ]
  },
  {
   "cell_type": "code",
   "execution_count": 39,
   "id": "3ddf3ce6-abf2-4ae3-9bb7-c61a7a9fc4c6",
   "metadata": {},
   "outputs": [
    {
     "name": "stdin",
     "output_type": "stream",
     "text": [
      "Enter the Marks in 1st Subject 90\n",
      "Enter the Marks in 2nd Subject 92\n",
      "Enter the Marks in 3rd Subject 93\n",
      "Enter the Marks in 4th Subject 90\n"
     ]
    },
    {
     "name": "stdout",
     "output_type": "stream",
     "text": [
      "Total marks= 365\n",
      "Aggregate= 91.25\n",
      "Grade : Distiction\n"
     ]
    }
   ],
   "source": [
    "sub1=int(input(\"Enter the Marks in 1st Subject\"))\n",
    "sub2=int(input(\"Enter the Marks in 2nd Subject\"))\n",
    "sub3=int(input(\"Enter the Marks in 3rd Subject\"))\n",
    "sub4=int(input(\"Enter the Marks in 4th Subject\"))\n",
    "tot=sub1+sub2+sub3+sub4\n",
    "agg=tot/4\n",
    "print(\"Total marks=\",tot)\n",
    "print(\"Aggregate=\",agg)\n",
    "if agg>=75:\n",
    "    print(\"Grade : Distiction\")\n",
    "elif agg>=60 and agg<75:\n",
    "    print(\"Grade : First Class\")\n",
    "elif agg>=50 and agg<60:\n",
    "    print(\"Grade : Second Class\")\n",
    "elif agg>=40 and agg<50:\n",
    "    print(\"Grade : Pass\")\n",
    "elif agg<40:\n",
    "    print(\"Grade : Fail\")"
   ]
  },
  {
   "cell_type": "code",
   "execution_count": 1,
   "id": "911f5dc6-1058-49ae-a0b3-b212f223c603",
   "metadata": {},
   "outputs": [
    {
     "name": "stdout",
     "output_type": "stream",
     "text": [
      "LEAR\n",
      "ER\n",
      "\n",
      "ARN P\n"
     ]
    }
   ],
   "source": [
    "name ='LEARN PYTHON'\n",
    "print(name[:4])\n",
    "print(name[1:5:2])\n",
    "print(name[-1:-10:2])\n",
    "s=slice(2,7)\n",
    "print(name[s])"
   ]
  },
  {
   "cell_type": "code",
   "execution_count": 8,
   "id": "72ab5e36-010f-4b50-aa05-0b2b8c9cc8ad",
   "metadata": {
    "scrolled": true
   },
   "outputs": [
    {
     "name": "stdin",
     "output_type": "stream",
     "text": [
      "Enter the Number 1\n"
     ]
    },
    {
     "name": "stdout",
     "output_type": "stream",
     "text": [
      "Not Prime\n"
     ]
    }
   ],
   "source": [
    "a=int(input(\"Enter the Number\"))\n",
    "i=0\n",
    "c=0\n",
    "while i in range(a):\n",
    "    i+=1\n",
    "    if a%i==0:\n",
    "        c+=1\n",
    "if c==2:\n",
    "    print(\"Prime\")\n",
    "else:\n",
    "    print(\"Not Prime\")"
   ]
  },
  {
   "cell_type": "code",
   "execution_count": 6,
   "id": "8a86deee-9161-44e2-957c-f1566864314a",
   "metadata": {},
   "outputs": [
    {
     "name": "stdout",
     "output_type": "stream",
     "text": [
      "Disp Function\n",
      "Show Function\n"
     ]
    }
   ],
   "source": [
    "def disp():\n",
    "    def show():\n",
    "        print(\"Show Function\")\n",
    "    print(\"Disp Function\")\n",
    "    show()\n",
    "\n",
    "disp( )"
   ]
  },
  {
   "cell_type": "code",
   "execution_count": 7,
   "id": "9e632cec-5eb7-441f-b7ab-6514b743c3ab",
   "metadata": {
    "scrolled": true
   },
   "outputs": [
    {
     "name": "stdout",
     "output_type": "stream",
     "text": [
      "15\n"
     ]
    }
   ],
   "source": [
    "def outerfun(a,b):\n",
    "    def innerfun(c,d):\n",
    "        return c+b\n",
    "    return innerfun(a,b)\n",
    "    return a\n",
    "res=outerfun(5,10)\n",
    "print(res)"
   ]
  },
  {
   "cell_type": "code",
   "execution_count": 7,
   "id": "cbd56ef2-ba1d-450b-876d-f1518118e816",
   "metadata": {},
   "outputs": [
    {
     "name": "stdin",
     "output_type": "stream",
     "text": [
      "Enter a number 98\n"
     ]
    },
    {
     "name": "stdout",
     "output_type": "stream",
     "text": [
      "ENTER AGAIN, AIM A HIGHER NUMBER\n"
     ]
    },
    {
     "name": "stdin",
     "output_type": "stream",
     "text": [
      "Enter a number 90\n"
     ]
    },
    {
     "name": "stdout",
     "output_type": "stream",
     "text": [
      "ENTER AGAIN, AIM A HIGHER NUMBER\n"
     ]
    },
    {
     "name": "stdin",
     "output_type": "stream",
     "text": [
      "Enter a number 97\n"
     ]
    },
    {
     "name": "stdout",
     "output_type": "stream",
     "text": [
      "ENTER AGAIN, AIM A HIGHER NUMBER\n"
     ]
    },
    {
     "name": "stdin",
     "output_type": "stream",
     "text": [
      "Enter a number 96\n"
     ]
    },
    {
     "name": "stdout",
     "output_type": "stream",
     "text": [
      "ENTER AGAIN, AIM A HIGHER NUMBER\n"
     ]
    },
    {
     "name": "stdin",
     "output_type": "stream",
     "text": [
      "Enter a number 95\n"
     ]
    },
    {
     "name": "stdout",
     "output_type": "stream",
     "text": [
      "ENTER AGAIN, AIM A HIGHER NUMBER\n"
     ]
    },
    {
     "name": "stdin",
     "output_type": "stream",
     "text": [
      "Enter a number 99\n"
     ]
    },
    {
     "name": "stdout",
     "output_type": "stream",
     "text": [
      "CONGRATULATIONS\n"
     ]
    }
   ],
   "source": [
    "while True:\n",
    "    n=int(input(\"Enter a number\"))\n",
    "    if n==99:\n",
    "        print(\"CONGRATULATIONS\")\n",
    "        break\n",
    "    elif n<99:\n",
    "        print(\"ENTER AGAIN, AIM A HIGHER NUMBER\")\n",
    "    elif n>99:\n",
    "        print(\"ENTER AGAIN, AIM A LOWER NUMBER\")"
   ]
  },
  {
   "cell_type": "code",
   "execution_count": 1,
   "id": "e41ef6a0-b254-4cf8-8e92-e045e22eb36a",
   "metadata": {},
   "outputs": [],
   "source": [
    "for i in range(0,):\n",
    "    print(i)"
   ]
  },
  {
   "cell_type": "code",
   "execution_count": 3,
   "id": "00a73634-47af-4500-a70a-0f8c2a155f78",
   "metadata": {},
   "outputs": [
    {
     "name": "stdout",
     "output_type": "stream",
     "text": [
      "The data if transfered\n"
     ]
    }
   ],
   "source": [
    "import requests\n",
    "url=\"https://google.com/data\"\n",
    "filename=\"urlgoogle.txt\"\n",
    "response=requests.get(url)\n",
    "with open(filename,\"wb\") as f:\n",
    "    f.write(response.content)\n",
    "print(\"The "
   ]
  },
  {
   "cell_type": "code",
   "execution_count": null,
   "id": "8cc730c0-b053-4e7f-ba0b-edc8a8a09f4f",
   "metadata": {},
   "outputs": [],
   "source": []
  },
  {
   "cell_type": "code",
   "execution_count": null,
   "id": "cea84c01-039b-4f69-aa4c-43a9e846fe32",
   "metadata": {},
   "outputs": [],
   "source": []
  }
 ],
 "metadata": {
  "kernelspec": {
   "display_name": "Python 3 (ipykernel)",
   "language": "python",
   "name": "python3"
  },
  "language_info": {
   "codemirror_mode": {
    "name": "ipython",
    "version": 3
   },
   "file_extension": ".py",
   "mimetype": "text/x-python",
   "name": "python",
   "nbconvert_exporter": "python",
   "pygments_lexer": "ipython3",
   "version": "3.12.4"
  }
 },
 "nbformat": 4,
 "nbformat_minor": 5
}
