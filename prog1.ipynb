{
 "cells": [
  {
   "cell_type": "code",
   "execution_count": 1,
   "id": "f32d4d9a-a389-4704-bda3-9af4d395273c",
   "metadata": {},
   "outputs": [
    {
     "name": "stdout",
     "output_type": "stream",
     "text": [
      "Hello@Welcome@ to@python\n"
     ]
    }
   ],
   "source": [
    "print(\"Hello\", \"Welcome\",\" to\",\"python\",sep='@')"
   ]
  },
  {
   "cell_type": "code",
   "execution_count": 3,
   "id": "9c4bc47a-99d0-4d07-999b-b540cea48c53",
   "metadata": {},
   "outputs": [
    {
     "name": "stdin",
     "output_type": "stream",
     "text": [
      "Enter the Number to be checked 11\n"
     ]
    },
    {
     "name": "stdout",
     "output_type": "stream",
     "text": [
      "Prime\n"
     ]
    }
   ],
   "source": [
    "num=int(input(\"Enter the Number to be checked\"))\n",
    "i=0\n",
    "c=0\n",
    "while(i<=num):\n",
    "    i+=1\n",
    "    if(num%i==0):\n",
    "        c+=1\n",
    "if(c==2):\n",
    " print(\"Prime\")\n",
    "else:\n",
    " print(\"Not Prime\")"
   ]
  },
  {
   "cell_type": "code",
   "execution_count": 1,
   "id": "40c478cd-198f-4c9d-a7d3-de5f27bb54d0",
   "metadata": {},
   "outputs": [
    {
     "name": "stdin",
     "output_type": "stream",
     "text": [
      "Enter the number: 7\n"
     ]
    },
    {
     "name": "stdout",
     "output_type": "stream",
     "text": [
      "Is prime \n",
      "No of Dividends: 2\n"
     ]
    }
   ],
   "source": [
    "numbers = int(input(\"Enter the number:\"))\n",
    "a=0\n",
    "if numbers == 1:\n",
    "    print(\"its none\")\n",
    "    quit()\n",
    "for num in range(numbers + 1)[1:]:\n",
    "    if numbers % num == 0:\n",
    "        a = a + 1\n",
    "    if a > 2:\n",
    "       print(\"Not prime number\")\n",
    "       break \n",
    "if a == 2:\n",
    " print(\"Is prime \") \n",
    "print(\"No of Dividends:\",a)"
   ]
  },
  {
   "cell_type": "code",
   "execution_count": 15,
   "id": "bdc462d9-76a9-44cb-bab6-9f041713d365",
   "metadata": {},
   "outputs": [
    {
     "name": "stdout",
     "output_type": "stream",
     "text": [
      "Yes\n",
      "ari\n"
     ]
    }
   ],
   "source": [
    "a=\"Harryisagod\"\n",
    "if \"ar\" in \"Harry\":\n",
    "    print(\"Yes\")\n",
    "else:\n",
    "    print(\"No\")\n",
    "print(a[1:7:2])"
   ]
  },
  {
   "cell_type": "code",
   "execution_count": 3,
   "id": "6fa27e94-76c6-416e-88dc-f8b9e49bbe2c",
   "metadata": {},
   "outputs": [
    {
     "name": "stdin",
     "output_type": "stream",
     "text": [
      "Enter the Principal 1000\n",
      "Enter the Time in Years 5\n",
      "Enter the Rate 11\n"
     ]
    },
    {
     "name": "stdout",
     "output_type": "stream",
     "text": [
      "The Principal is: 1000\n",
      "The Time is: 5\n",
      "High Interest Rate\n",
      "The Simple Interest is: 550.0\n"
     ]
    }
   ],
   "source": [
    "p=int(input(\"Enter the Principal\"))\n",
    "t=int(input(\"Enter the Time in Years\"))\n",
    "r=int(input(\"Enter the Rate\"))\n",
    "si=(p*t*r)/100\n",
    "print(\"The Principal is:\",p)\n",
    "print(\"The Time is:\",t)\n",
    "if r>10:\n",
    " print(\"High Interest Rate\")\n",
    "else:\n",
    " print(\"The Interest is:\",r)\n",
    "print(\"The Simple Interest is:\",si)"
   ]
  },
  {
   "cell_type": "code",
   "execution_count": 3,
   "id": "426614b8-33e1-4777-896b-08aea56b909b",
   "metadata": {},
   "outputs": [
    {
     "name": "stdin",
     "output_type": "stream",
     "text": [
      "Enter the 1st side of the Triangle 2\n",
      "Enter the 2nd side of the Triangle 3\n",
      "Enter the 3rd side of the Triangle 4\n"
     ]
    },
    {
     "name": "stdout",
     "output_type": "stream",
     "text": [
      "It is a Scalene Triangle\n"
     ]
    }
   ],
   "source": [
    "s1=float(input(\"Enter the 1st side of the Triangle\"))\n",
    "s2=float(input(\"Enter the 2nd side of the Triangle\"))\n",
    "s3=float(input(\"Enter the 3rd side of the Triangle\"))\n",
    "if s1==s2 and s2==s3 and s1==s3:\n",
    "    print(\"It is an Equilateral Triangle\")\n",
    "elif s1==s2 or s2==s3 or s1==s3:\n",
    "    print(\"It is an Isosceles Triangle\")\n",
    "elif s1!=s2 and s2!=s3 and s1!=s3:\n",
    "    print(\"It is a Scalene Triangle\")"
   ]
  },
  {
   "cell_type": "code",
   "execution_count": 12,
   "id": "1f8e3c14-44df-4487-93e5-96ca9b23bfd8",
   "metadata": {},
   "outputs": [
    {
     "name": "stdin",
     "output_type": "stream",
     "text": [
      "Enter the Height in meters(m) 1.72\n",
      "Enter the Weight in kilograms(kg)  78\n"
     ]
    },
    {
     "name": "stdout",
     "output_type": "stream",
     "text": [
      "BMI= 26.365603028664147\n",
      "OverWeight\n"
     ]
    }
   ],
   "source": [
    "ht=float(input(\"Enter the Height in meters(m)\"))\n",
    "wt=float(input(\"Enter the Weight in kilograms(kg) \"))\n",
    "bmi=wt/(ht*ht)\n",
    "print(\"BMI=\",bmi)\n",
    "if bmi<18.5:\n",
    "    print(\"UnderWeight\")\n",
    "elif bmi<24.9 and bmi>=18.5:\n",
    "    print(\"Normal Weight\")\n",
    "elif bmi<29.9 and bmi>=24.9:\n",
    "    print(\"OverWeight\")\n",
    "elif bmi>30:\n",
    "    print(\"Obesity\")"
   ]
  },
  {
   "cell_type": "code",
   "execution_count": 18,
   "id": "3b76f6c4-0d4b-4f97-910e-70b092c93d7c",
   "metadata": {},
   "outputs": [
    {
     "name": "stdin",
     "output_type": "stream",
     "text": [
      "Enter the number of units consumed 250\n"
     ]
    },
    {
     "name": "stdout",
     "output_type": "stream",
     "text": [
      "The Electricity Bill is= 185.0 $\n"
     ]
    }
   ],
   "source": [
    "un=float(input(\"Enter the number of units consumed\"))\n",
    "if un<100:\n",
    "    bill=un*0.50\n",
    "    print(\"The Electricity Bill is=\",bill,\"$\")\n",
    "elif un<200:\n",
    "    bill=50+((un-100)*0.75)\n",
    "    print(\"The Electricity Bill is=\",bill,\"$\")\n",
    "elif un>200:\n",
    "    bill=50+75+((un-200)*1.20)\n",
    "    print(\"The Electricity Bill is=\",bill,\"$\")"
   ]
  },
  {
   "cell_type": "code",
   "execution_count": 24,
   "id": "4723d4ed-0885-4b13-b3ec-5eaedea4aff5",
   "metadata": {},
   "outputs": [
    {
     "name": "stdin",
     "output_type": "stream",
     "text": [
      "Enter the Amount 600\n"
     ]
    },
    {
     "name": "stdout",
     "output_type": "stream",
     "text": [
      "The Final Amount= 570.0 $\n"
     ]
    }
   ],
   "source": [
    "amt=float(input(\"Enter the Amount\"))\n",
    "if amt>+1000:\n",
    "    dis=amt-(0.1*amt)\n",
    "    print(\"The Final Amount=\",dis,\"$\")\n",
    "elif amt<1000 and amt>=500:\n",
    "    dis=amt-(0.05*amt)\n",
    "    print(\"The Final Amount=\",dis,\"$\")\n",
    "elif amt<500:\n",
    "    print(\"The Final Amount=\",amt,\"$\")"
   ]
  },
  {
   "cell_type": "code",
   "execution_count": 48,
   "id": "4689780d-fe88-4cad-b3a3-c49af16da70a",
   "metadata": {},
   "outputs": [
    {
     "name": "stdin",
     "output_type": "stream",
     "text": [
      "Enter your age: 21\n"
     ]
    },
    {
     "name": "stdout",
     "output_type": "stream",
     "text": [
      "Eligible for a driver’s license\n",
      "Eligible to vote (depending on local laws)\n"
     ]
    }
   ],
   "source": [
    "age=int(input(\"Enter your age:\"))\n",
    "if age<16:\n",
    "    print(\"Too young for a driver’s license\")\n",
    "elif age>=16 and age<18:\n",
    "    print(\"Eligible for a learner’s permit\")\n",
    "elif age>=18:\n",
    "    print(\"Eligible for a driver’s license\")\n",
    "    if age>=21:\n",
    "        print(\"Eligible to vote (depending on local laws)\")"
   ]
  },
  {
   "cell_type": "code",
   "execution_count": 58,
   "id": "00a5231f-c077-4d0f-861d-efd6dc24a17e",
   "metadata": {},
   "outputs": [
    {
     "name": "stdin",
     "output_type": "stream",
     "text": [
      "Enter the price for 1st item 10\n",
      "Enter the quantity of 1st item 4\n",
      "Enter the price for 2nd item 10\n",
      "Enter the quantity of 2nd item 4\n",
      "Enter the price for 3rd item 10\n",
      "Enter the quantity of 3rd item 4\n"
     ]
    },
    {
     "name": "stdout",
     "output_type": "stream",
     "text": [
      "Subtotal= 120.0 $\n",
      "Discounted amount= 12.0 $\n",
      "Tax Amount 8.64 $\n",
      "Final amount= 116.64 $\n"
     ]
    }
   ],
   "source": [
    "p1=float(input(\"Enter the price for 1st item\"))\n",
    "q1=float(input(\"Enter the quantity of 1st item\"))\n",
    "p2=float(input(\"Enter the price for 2nd item\"))\n",
    "q2=float(input(\"Enter the quantity of 2nd item\"))\n",
    "p3=float(input(\"Enter the price for 3rd item\"))\n",
    "q3=float(input(\"Enter the quantity of 3rd item\"))\n",
    "subtot=(p1*q1)+(p2*q2)+(p3*q3)\n",
    "print(\"Subtotal=\",subtot,\"$\")\n",
    "if subtot>100:\n",
    "    dis=0.1*subtot\n",
    "    distot=subtot-dis\n",
    "    tax=0.08*distot\n",
    "    subtot=tax+distot\n",
    "    print(\"Discounted amount=\",dis,\"$\")\n",
    "    print(\"Tax Amount\",tax,\"$\")\n",
    "    print(\"Final amount=\",subtot,\"$\")\n",
    "else:\n",
    "    tax=0.08*subtot\n",
    "    subtot+=tax\n",
    "    print(\"Tax amount=\",tax,\"$\")\n",
    "    print(\"Final amount=\",subtot,\"$\")   "
   ]
  },
  {
   "cell_type": "code",
   "execution_count": 2,
   "id": "dfd6e026-41d5-42bd-84f6-607626f1470b",
   "metadata": {},
   "outputs": [
    {
     "name": "stdout",
     "output_type": "stream",
     "text": [
      "The data is transferred\n"
     ]
    }
   ],
   "source": [
    "import requests\n",
    "url=\"https://google.com/data\"\n",
    "filename=\"urlgoogledata.txt\"\n",
    "response=requests.get(url)\n",
    "with open(filename,\"wb\") as f:\n",
    "    f.write(response.content)\n",
    "print(\"The data is transferred\")"
   ]
  },
  {
   "cell_type": "code",
   "execution_count": null,
   "id": "0eac655a-06d8-42d3-bb30-86f5e35c554c",
   "metadata": {},
   "outputs": [],
   "source": []
  }
 ],
 "metadata": {
  "kernelspec": {
   "display_name": "Python 3 (ipykernel)",
   "language": "python",
   "name": "python3"
  },
  "language_info": {
   "codemirror_mode": {
    "name": "ipython",
    "version": 3
   },
   "file_extension": ".py",
   "mimetype": "text/x-python",
   "name": "python",
   "nbconvert_exporter": "python",
   "pygments_lexer": "ipython3",
   "version": "3.12.4"
  }
 },
 "nbformat": 4,
 "nbformat_minor": 5
}
